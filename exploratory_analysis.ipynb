{
  "nbformat": 4,
  "nbformat_minor": 0,
  "metadata": {
    "colab": {
      "name": "exploratory_analysis.ipynb",
      "provenance": [],
      "collapsed_sections": []
    },
    "kernelspec": {
      "name": "python3",
      "display_name": "Python 3"
    }
  },
  "cells": [
    {
      "cell_type": "markdown",
      "metadata": {
        "id": "jzq-cnmFas7F"
      },
      "source": [
        "# Case Study 2: Exploratory Data Analysis\n",
        "This notebook was an initial playground for testing a variety of code.  Much of the mistakes were deleted, but the notebook does go over some of the design choices I made."
      ]
    },
    {
      "cell_type": "markdown",
      "metadata": {
        "id": "aKnN8oKKhfhu"
      },
      "source": [
        "Case Study #2:  \n",
        "There is 1 dataset(csv) with 3 years worth of customer orders. There are 4 columns in the csv dataset: index, CUSTOMER_EMAIL(unique identifier as hash), Net_Revenue, and Year.  \n",
        "__For each year we need the following information__:\n",
        "* Total revenue for the current year  \n",
        "* New Customer Revenue e.g. new customers not present in previous year only  \n",
        "* Existing Customer Growth, Revenue of existing customers for current year – Revenue of existing customers from prior year  \n",
        "* Revenue lost from attrition \n",
        "* Existing Customer Revenue Current Year  \n",
        "* Existing Customer Revenue Prior Year  \n",
        "* Total Customers Current Year  \n",
        "* Total Customers Previous Year  \n",
        "* New Customers  \n",
        "* Lost Customers  \n",
        "\n",
        "Dataset\n",
        "https://www.dropbox.com/sh/xhy2fzjdvg3ykhy/AADAVKH9tgD_dWh6TZtOd34ia?dl=0\n",
        "customer_orders.csv\n",
        "\n",
        "Output\n",
        "An HTML website with the results of the data. Please highlight which year the calculations are for. All code should be hosted on GitHub for viewing. Please provide URL’s to both the output and the GitHub repo."
      ]
    },
    {
      "cell_type": "code",
      "metadata": {
        "id": "mbxa3JP9oHOQ"
      },
      "source": [
        "import pandas as pd\n",
        "import io"
      ],
      "execution_count": 1,
      "outputs": []
    },
    {
      "cell_type": "markdown",
      "metadata": {
        "id": "TgvttOa6h-9v"
      },
      "source": [
        "## Import dataset"
      ]
    },
    {
      "cell_type": "code",
      "metadata": {
        "colab": {
          "resources": {
            "http://localhost:8080/nbextensions/google.colab/files.js": {
              "data": "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",
              "ok": true,
              "headers": [
                [
                  "content-type",
                  "application/javascript"
                ]
              ],
              "status": 200,
              "status_text": ""
            }
          },
          "base_uri": "https://localhost:8080/",
          "height": 72
        },
        "id": "RaTwvtv1hcx2",
        "outputId": "7517345d-8f1a-4e51-b54e-fec0075d06a5"
      },
      "source": [
        "# Import from local system\n",
        "from google.colab import files\n",
        "uploaded = files.upload()"
      ],
      "execution_count": 2,
      "outputs": [
        {
          "output_type": "display_data",
          "data": {
            "text/html": [
              "\n",
              "     <input type=\"file\" id=\"files-26fe3134-c6c3-4b95-912a-7d3b8e1cec7a\" name=\"files[]\" multiple disabled\n",
              "        style=\"border:none\" />\n",
              "     <output id=\"result-26fe3134-c6c3-4b95-912a-7d3b8e1cec7a\">\n",
              "      Upload widget is only available when the cell has been executed in the\n",
              "      current browser session. Please rerun this cell to enable.\n",
              "      </output>\n",
              "      <script src=\"/nbextensions/google.colab/files.js\"></script> "
            ],
            "text/plain": [
              "<IPython.core.display.HTML object>"
            ]
          },
          "metadata": {
            "tags": []
          }
        },
        {
          "output_type": "stream",
          "text": [
            "Saving casestudy.csv to casestudy.csv\n"
          ],
          "name": "stdout"
        }
      ]
    },
    {
      "cell_type": "code",
      "metadata": {
        "colab": {
          "base_uri": "https://localhost:8080/",
          "height": 221
        },
        "id": "8dHXySgUidIc",
        "outputId": "ab1e5e44-b1e3-4352-ded3-0da2418c68a8"
      },
      "source": [
        "df_full = pd.read_csv(io.BytesIO(uploaded['casestudy.csv']))\n",
        "print(df_full.columns)\n",
        "df_full.head()"
      ],
      "execution_count": 3,
      "outputs": [
        {
          "output_type": "stream",
          "text": [
            "Index(['Unnamed: 0', 'customer_email', 'net_revenue', 'year'], dtype='object')\n"
          ],
          "name": "stdout"
        },
        {
          "output_type": "execute_result",
          "data": {
            "text/html": [
              "<div>\n",
              "<style scoped>\n",
              "    .dataframe tbody tr th:only-of-type {\n",
              "        vertical-align: middle;\n",
              "    }\n",
              "\n",
              "    .dataframe tbody tr th {\n",
              "        vertical-align: top;\n",
              "    }\n",
              "\n",
              "    .dataframe thead th {\n",
              "        text-align: right;\n",
              "    }\n",
              "</style>\n",
              "<table border=\"1\" class=\"dataframe\">\n",
              "  <thead>\n",
              "    <tr style=\"text-align: right;\">\n",
              "      <th></th>\n",
              "      <th>Unnamed: 0</th>\n",
              "      <th>customer_email</th>\n",
              "      <th>net_revenue</th>\n",
              "      <th>year</th>\n",
              "    </tr>\n",
              "  </thead>\n",
              "  <tbody>\n",
              "    <tr>\n",
              "      <th>0</th>\n",
              "      <td>0</td>\n",
              "      <td>nhknapwsbx@gmail.com</td>\n",
              "      <td>249.92</td>\n",
              "      <td>2015</td>\n",
              "    </tr>\n",
              "    <tr>\n",
              "      <th>1</th>\n",
              "      <td>1</td>\n",
              "      <td>joiuzbvcpn@gmail.com</td>\n",
              "      <td>87.61</td>\n",
              "      <td>2015</td>\n",
              "    </tr>\n",
              "    <tr>\n",
              "      <th>2</th>\n",
              "      <td>2</td>\n",
              "      <td>ukkjctepxt@gmail.com</td>\n",
              "      <td>168.38</td>\n",
              "      <td>2015</td>\n",
              "    </tr>\n",
              "    <tr>\n",
              "      <th>3</th>\n",
              "      <td>3</td>\n",
              "      <td>gykatilzrt@gmail.com</td>\n",
              "      <td>62.40</td>\n",
              "      <td>2015</td>\n",
              "    </tr>\n",
              "    <tr>\n",
              "      <th>4</th>\n",
              "      <td>4</td>\n",
              "      <td>mmsgsrtxah@gmail.com</td>\n",
              "      <td>43.08</td>\n",
              "      <td>2015</td>\n",
              "    </tr>\n",
              "  </tbody>\n",
              "</table>\n",
              "</div>"
            ],
            "text/plain": [
              "   Unnamed: 0         customer_email  net_revenue  year\n",
              "0           0   nhknapwsbx@gmail.com       249.92  2015\n",
              "1           1   joiuzbvcpn@gmail.com        87.61  2015\n",
              "2           2   ukkjctepxt@gmail.com       168.38  2015\n",
              "3           3   gykatilzrt@gmail.com        62.40  2015\n",
              "4           4   mmsgsrtxah@gmail.com        43.08  2015"
            ]
          },
          "metadata": {
            "tags": []
          },
          "execution_count": 3
        }
      ]
    },
    {
      "cell_type": "markdown",
      "metadata": {
        "id": "xUjvO2wgTrKP"
      },
      "source": [
        "## Analysis\n",
        "\n",
        "Each calculation has been made into it's own function.  The reason for this is to follow the __single responsibility principle__ from SOLID principles of object oriented programming.  While we are not defining any classes in this program, it is still important to define functions to have a single purpose. \n",
        "\n",
        "There are many reasons as to why we would want for this to be true.  First off, it makes testing easier.  Since each function only performs one operation, unit testing for each function is easier.  Also, writing your code this way make it more dynamic.  Less things are hard-coded and everything is more modular.  "
      ]
    },
    {
      "cell_type": "code",
      "metadata": {
        "id": "50NBfuxgIKsp"
      },
      "source": [
        "# Return a dataframe from the year's data\n",
        "def data_for_year(df,year):\n",
        "  new_df = df.loc[df['year'] == year]\n",
        "  print(type(year))\n",
        "  return new_df\n",
        "\n",
        "# Get sorted list of unique years in full dataset\n",
        "# Smallest year is in position zero\n",
        "def years_in_data(df):\n",
        "  years = sorted(set(df['year']))\n",
        "  return years \n",
        "\n",
        "# Input parameters: current years data (dataframe), previous year's data \n",
        "# (dataframe), type of join (string of inner, outer, left, or right), \n",
        "def merged_data(df_current, df_prior, how, joined_type):\n",
        "  df_merged = pd.merge(df_current,df_prior, how = how, on = ['customer_email']\n",
        "                       ,indicator=True)\n",
        "  df = df_merged.loc[df_merged['_merge'] == joined_type]\n",
        "  return df\n",
        "\n",
        "# Returns the total revenue for the given year\n",
        "def total_revenue(df, year):\n",
        "  sub_df = data_for_year(df, year)\n",
        "  total_revenue = round(sum(sub_df['net_revenue']),2)\n",
        "  return total_revenue\n",
        "\n",
        "# Returns revunue made from new customers.  Only compares with the previous year\n",
        "def new_customer_revenue(df, year):\n",
        "  years = years_in_data(df)\n",
        "  if years[0] == year:\n",
        "    return \"N/A\"\n",
        "  else:\n",
        "    df_year_current = data_for_year(df, year)\n",
        "    df_year_prior = data_for_year(df, year - 1)\n",
        "    df_unique = merged_data(df_year_current, df_year_prior, 'left', 'left_only')\n",
        "    return sum(df_unique['net_revenue_x'])\n",
        "\n",
        "# Returns revenue of existing customers from current year\n",
        "def existing_customer_revenue_current_year(df, year):\n",
        "  years = years_in_data(df)\n",
        "  if years[0] == year:\n",
        "    return \"N/A\"\n",
        "  else:\n",
        "    df_year_current = data_for_year(df, year)\n",
        "    df_year_prior = data_for_year(df, year - 1)\n",
        "    df_common = merged_data(df_year_current, df_year_prior, 'inner', 'both')\n",
        "    return sum(df_common['net_revenue_x'])\n",
        "\n",
        "# Returns revenue of existing customers from prior year\n",
        "def existing_customer_revenue_prior_year(df, year):\n",
        "  years = years_in_data(df)\n",
        "  if years[0] == year:\n",
        "    return \"N/A\"\n",
        "  else:\n",
        "    df_year_current = data_for_year(df, year)\n",
        "    df_year_prior = data_for_year(df, year - 1)\n",
        "    df_common = merged_data(df_year_current, df_year_prior, 'inner', 'both')\n",
        "    return sum(df_common['net_revenue_y'])\n",
        "\n",
        "# Revenue of existing customers for current year minus \n",
        "# Revenue of existing customers from prior year  \n",
        "def existing_customer_growth(df, year):\n",
        "  years = years_in_data(df)\n",
        "  if years[0] == year:\n",
        "    return \"N/A\"\n",
        "  else:\n",
        "    return existing_customer_revenue_current_year(df, year) - existing_customer_revenue_prior_year(df, year)\n",
        "\n",
        "# Calculates the revnue lost from customers who did not make any purchases \n",
        "# this year.  \n",
        "def revenue_lost_from_attrition(df, year):\n",
        "  years = years_in_data(df)\n",
        "  if years[0] == year:\n",
        "    return \"N/A\"\n",
        "  else:\n",
        "    df_year_current = data_for_year(df, year)\n",
        "    df_year_prior = data_for_year(df, year - 1)\n",
        "    df_unique = merged_data(df_year_current, df_year_prior,'right','right_only')\n",
        "    return sum(df_unique['net_revenue_y'])\n",
        "\n",
        "# Returns the total number of customer from a given year\n",
        "def total_customers_by_year(df, year):\n",
        "  df_year_current = data_for_year(df, year)\n",
        "  unique_emails = set(df_year_current['customer_email'])\n",
        "  return len(unique_emails)\n",
        "\n",
        "# Returns a list of customers who did not make any puchases last year but\n",
        "# did make purchases this year\n",
        "def new_customers(df, year):\n",
        "  years = years_in_data(df)\n",
        "  if years[0] == year:\n",
        "    return \"N/A\"\n",
        "  else:\n",
        "    df_year_current = data_for_year(df, year)\n",
        "    df_year_prior = data_for_year(df, year - 1)\n",
        "    df_unique = merged_data(df_year_current, df_year_prior, 'left', 'left_only')\n",
        "    return df_unique['customer_email'].tolist()\n",
        "\n",
        "# Retuns a list of all the customers who did not make any purchases this year\n",
        "def lost_customers(df, year):\n",
        "  years = years_in_data(df)\n",
        "  if years[0] == year:\n",
        "    return \"N/A\"\n",
        "  else:\n",
        "    df_year_current = data_for_year(df, year)\n",
        "    df_year_prior = data_for_year(df, year - 1)\n",
        "    df_unique = merged_data(df_year_current, df_year_prior,'right','right_only')\n",
        "    return df_unique['customer_email'].tolist()"
      ],
      "execution_count": 4,
      "outputs": []
    },
    {
      "cell_type": "code",
      "metadata": {
        "colab": {
          "base_uri": "https://localhost:8080/",
          "height": 436
        },
        "id": "WoW1z4VA8g6x",
        "outputId": "568452e0-4d5c-4eb7-abdb-e852d034f63b"
      },
      "source": [
        "data_for_year(df_full,2015)"
      ],
      "execution_count": 5,
      "outputs": [
        {
          "output_type": "stream",
          "text": [
            "<class 'int'>\n"
          ],
          "name": "stdout"
        },
        {
          "output_type": "execute_result",
          "data": {
            "text/html": [
              "<div>\n",
              "<style scoped>\n",
              "    .dataframe tbody tr th:only-of-type {\n",
              "        vertical-align: middle;\n",
              "    }\n",
              "\n",
              "    .dataframe tbody tr th {\n",
              "        vertical-align: top;\n",
              "    }\n",
              "\n",
              "    .dataframe thead th {\n",
              "        text-align: right;\n",
              "    }\n",
              "</style>\n",
              "<table border=\"1\" class=\"dataframe\">\n",
              "  <thead>\n",
              "    <tr style=\"text-align: right;\">\n",
              "      <th></th>\n",
              "      <th>Unnamed: 0</th>\n",
              "      <th>customer_email</th>\n",
              "      <th>net_revenue</th>\n",
              "      <th>year</th>\n",
              "    </tr>\n",
              "  </thead>\n",
              "  <tbody>\n",
              "    <tr>\n",
              "      <th>0</th>\n",
              "      <td>0</td>\n",
              "      <td>nhknapwsbx@gmail.com</td>\n",
              "      <td>249.92</td>\n",
              "      <td>2015</td>\n",
              "    </tr>\n",
              "    <tr>\n",
              "      <th>1</th>\n",
              "      <td>1</td>\n",
              "      <td>joiuzbvcpn@gmail.com</td>\n",
              "      <td>87.61</td>\n",
              "      <td>2015</td>\n",
              "    </tr>\n",
              "    <tr>\n",
              "      <th>2</th>\n",
              "      <td>2</td>\n",
              "      <td>ukkjctepxt@gmail.com</td>\n",
              "      <td>168.38</td>\n",
              "      <td>2015</td>\n",
              "    </tr>\n",
              "    <tr>\n",
              "      <th>3</th>\n",
              "      <td>3</td>\n",
              "      <td>gykatilzrt@gmail.com</td>\n",
              "      <td>62.40</td>\n",
              "      <td>2015</td>\n",
              "    </tr>\n",
              "    <tr>\n",
              "      <th>4</th>\n",
              "      <td>4</td>\n",
              "      <td>mmsgsrtxah@gmail.com</td>\n",
              "      <td>43.08</td>\n",
              "      <td>2015</td>\n",
              "    </tr>\n",
              "    <tr>\n",
              "      <th>...</th>\n",
              "      <td>...</td>\n",
              "      <td>...</td>\n",
              "      <td>...</td>\n",
              "      <td>...</td>\n",
              "    </tr>\n",
              "    <tr>\n",
              "      <th>231289</th>\n",
              "      <td>231289</td>\n",
              "      <td>xtrpmgjbwp@gmail.com</td>\n",
              "      <td>216.89</td>\n",
              "      <td>2015</td>\n",
              "    </tr>\n",
              "    <tr>\n",
              "      <th>231290</th>\n",
              "      <td>231290</td>\n",
              "      <td>peeorxpsbr@gmail.com</td>\n",
              "      <td>39.16</td>\n",
              "      <td>2015</td>\n",
              "    </tr>\n",
              "    <tr>\n",
              "      <th>231291</th>\n",
              "      <td>231291</td>\n",
              "      <td>vanasezjpw@gmail.com</td>\n",
              "      <td>233.46</td>\n",
              "      <td>2015</td>\n",
              "    </tr>\n",
              "    <tr>\n",
              "      <th>231292</th>\n",
              "      <td>231292</td>\n",
              "      <td>dnpremlztb@gmail.com</td>\n",
              "      <td>136.27</td>\n",
              "      <td>2015</td>\n",
              "    </tr>\n",
              "    <tr>\n",
              "      <th>231293</th>\n",
              "      <td>231293</td>\n",
              "      <td>qsgswrpycl@gmail.com</td>\n",
              "      <td>60.24</td>\n",
              "      <td>2015</td>\n",
              "    </tr>\n",
              "  </tbody>\n",
              "</table>\n",
              "<p>231294 rows × 4 columns</p>\n",
              "</div>"
            ],
            "text/plain": [
              "        Unnamed: 0         customer_email  net_revenue  year\n",
              "0                0   nhknapwsbx@gmail.com       249.92  2015\n",
              "1                1   joiuzbvcpn@gmail.com        87.61  2015\n",
              "2                2   ukkjctepxt@gmail.com       168.38  2015\n",
              "3                3   gykatilzrt@gmail.com        62.40  2015\n",
              "4                4   mmsgsrtxah@gmail.com        43.08  2015\n",
              "...            ...                    ...          ...   ...\n",
              "231289      231289   xtrpmgjbwp@gmail.com       216.89  2015\n",
              "231290      231290   peeorxpsbr@gmail.com        39.16  2015\n",
              "231291      231291   vanasezjpw@gmail.com       233.46  2015\n",
              "231292      231292   dnpremlztb@gmail.com       136.27  2015\n",
              "231293      231293   qsgswrpycl@gmail.com        60.24  2015\n",
              "\n",
              "[231294 rows x 4 columns]"
            ]
          },
          "metadata": {
            "tags": []
          },
          "execution_count": 5
        }
      ]
    }
  ]
}